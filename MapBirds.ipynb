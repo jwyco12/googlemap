{
  "nbformat": 4,
  "nbformat_minor": 0,
  "metadata": {
    "colab": {
      "provenance": [],
      "authorship_tag": "ABX9TyOsqM70IxUf033N+TeYUh1X",
      "include_colab_link": true
    },
    "kernelspec": {
      "name": "ir",
      "display_name": "R"
    },
    "language_info": {
      "name": "R"
    }
  },
  "cells": [
    {
      "cell_type": "markdown",
      "metadata": {
        "id": "view-in-github",
        "colab_type": "text"
      },
      "source": [
        "<a href=\"https://colab.research.google.com/github/jwyco12/googlemap/blob/main/MapBirds.ipynb\" target=\"_parent\"><img src=\"https://colab.research.google.com/assets/colab-badge.svg\" alt=\"Open In Colab\"/></a>"
      ]
    },
    {
      "cell_type": "code",
      "execution_count": null,
      "metadata": {
        "id": "2CfNQOj2bNmc"
      },
      "outputs": [],
      "source": []
    },
    {
      "cell_type": "code",
      "source": [
        "packages<-c(\"leaflet\", \"htmlwidgets\")\n",
        "sapply(packages, install.packages, character.only=TRUE)\n",
        "sapply(packages, require, character.only=TRUE)"
      ],
      "metadata": {
        "colab": {
          "base_uri": "https://localhost:8080/",
          "height": 377
        },
        "id": "bXXEAvEq5ffz",
        "outputId": "8c30bfce-50e3-4636-c75d-2a95b980c3b4"
      },
      "execution_count": 1,
      "outputs": [
        {
          "output_type": "stream",
          "name": "stderr",
          "text": [
            "Installing package into ‘/usr/local/lib/R/site-library’\n",
            "(as ‘lib’ is unspecified)\n",
            "\n",
            "also installing the dependencies ‘lazyeval’, ‘Rcpp’, ‘terra’, ‘gridExtra’, ‘crosstalk’, ‘htmlwidgets’, ‘leaflet.providers’, ‘png’, ‘raster’, ‘sp’, ‘viridis’\n",
            "\n",
            "\n",
            "Installing package into ‘/usr/local/lib/R/site-library’\n",
            "(as ‘lib’ is unspecified)\n",
            "\n"
          ]
        },
        {
          "output_type": "display_data",
          "data": {
            "text/html": [
              "<dl>\n",
              "\t<dt>$leaflet</dt>\n",
              "\t\t<dd>NULL</dd>\n",
              "\t<dt>$htmlwidgets</dt>\n",
              "\t\t<dd>NULL</dd>\n",
              "</dl>\n"
            ],
            "text/markdown": "$leaflet\n:   NULL\n$htmlwidgets\n:   NULL\n\n\n",
            "text/latex": "\\begin{description}\n\\item[\\$leaflet] NULL\n\\item[\\$htmlwidgets] NULL\n\\end{description}\n",
            "text/plain": [
              "$leaflet\n",
              "NULL\n",
              "\n",
              "$htmlwidgets\n",
              "NULL\n"
            ]
          },
          "metadata": {}
        },
        {
          "output_type": "stream",
          "name": "stderr",
          "text": [
            "Loading required package: leaflet\n",
            "\n",
            "Loading required package: htmlwidgets\n",
            "\n"
          ]
        },
        {
          "output_type": "display_data",
          "data": {
            "text/html": [
              "<style>\n",
              ".dl-inline {width: auto; margin:0; padding: 0}\n",
              ".dl-inline>dt, .dl-inline>dd {float: none; width: auto; display: inline-block}\n",
              ".dl-inline>dt::after {content: \":\\0020\"; padding-right: .5ex}\n",
              ".dl-inline>dt:not(:first-of-type) {padding-left: .5ex}\n",
              "</style><dl class=dl-inline><dt>leaflet</dt><dd>TRUE</dd><dt>htmlwidgets</dt><dd>TRUE</dd></dl>\n"
            ],
            "text/markdown": "leaflet\n:   TRUEhtmlwidgets\n:   TRUE\n\n",
            "text/latex": "\\begin{description*}\n\\item[leaflet] TRUE\n\\item[htmlwidgets] TRUE\n\\end{description*}\n",
            "text/plain": [
              "    leaflet htmlwidgets \n",
              "       TRUE        TRUE "
            ]
          },
          "metadata": {}
        }
      ]
    },
    {
      "cell_type": "code",
      "source": [
        "library('tidyverse')\n",
        "library('googledrive')"
      ],
      "metadata": {
        "colab": {
          "base_uri": "https://localhost:8080/"
        },
        "id": "6mnO2a9Z8TKG",
        "outputId": "4e3c5382-9330-4039-e35c-6a74e496247a"
      },
      "execution_count": 2,
      "outputs": [
        {
          "output_type": "stream",
          "name": "stderr",
          "text": [
            "── \u001b[1mAttaching core tidyverse packages\u001b[22m ──────────────────────── tidyverse 2.0.0 ──\n",
            "\u001b[32m✔\u001b[39m \u001b[34mdplyr    \u001b[39m 1.1.3     \u001b[32m✔\u001b[39m \u001b[34mreadr    \u001b[39m 2.1.4\n",
            "\u001b[32m✔\u001b[39m \u001b[34mforcats  \u001b[39m 1.0.0     \u001b[32m✔\u001b[39m \u001b[34mstringr  \u001b[39m 1.5.0\n",
            "\u001b[32m✔\u001b[39m \u001b[34mggplot2  \u001b[39m 3.4.4     \u001b[32m✔\u001b[39m \u001b[34mtibble   \u001b[39m 3.2.1\n",
            "\u001b[32m✔\u001b[39m \u001b[34mlubridate\u001b[39m 1.9.3     \u001b[32m✔\u001b[39m \u001b[34mtidyr    \u001b[39m 1.3.0\n",
            "\u001b[32m✔\u001b[39m \u001b[34mpurrr    \u001b[39m 1.0.2     \n",
            "── \u001b[1mConflicts\u001b[22m ────────────────────────────────────────── tidyverse_conflicts() ──\n",
            "\u001b[31m✖\u001b[39m \u001b[34mdplyr\u001b[39m::\u001b[32mfilter()\u001b[39m masks \u001b[34mstats\u001b[39m::filter()\n",
            "\u001b[31m✖\u001b[39m \u001b[34mdplyr\u001b[39m::\u001b[32mlag()\u001b[39m    masks \u001b[34mstats\u001b[39m::lag()\n",
            "\u001b[36mℹ\u001b[39m Use the conflicted package (\u001b[3m\u001b[34m<http://conflicted.r-lib.org/>\u001b[39m\u001b[23m) to force all conflicts to become errors\n"
          ]
        }
      ]
    },
    {
      "cell_type": "code",
      "source": [
        "drive_deauth()\n",
        "drive_download(as_id(\"1H9vfFh-uGSvpamNzslntaGh162djYLtnc4PVG-MhK30\"), overwrite = TRUE, type = \"csv\")\n",
        "Bird <- as.data.frame(read.csv(\"Bird_Species_at_Dunbar.csv\")) %>% drop_na(c(\"Longitude\",\"Latitude\"))"
      ],
      "metadata": {
        "colab": {
          "base_uri": "https://localhost:8080/"
        },
        "id": "diy1UEag8aft",
        "outputId": "a0914fab-63cc-42cd-85bd-612d048d2e95"
      },
      "execution_count": 16,
      "outputs": [
        {
          "output_type": "stream",
          "name": "stderr",
          "text": [
            "File downloaded:\n",
            "\n",
            "• \u001b[36mBird_Species_at_Dunbar\u001b[39m \u001b[90m<id: 1H9vfFh-uGSvpamNzslntaGh162djYLtnc4PVG-MhK30>\u001b[39m\n",
            "\n",
            "Saved locally as:\n",
            "\n",
            "• \u001b[34mBird_Species_at_Dunbar.csv\u001b[39m\n",
            "\n"
          ]
        }
      ]
    },
    {
      "cell_type": "code",
      "source": [
        "html <- Bird %>%\n",
        "     leaflet() %>%\n",
        "      addTiles(group = \"OSM\")%>%\n",
        "        addProviderTiles(providers$CartoDB.Positron, group = \"CartoDB\") %>%\n",
        "        addProviderTiles(providers$Esri.NatGeoWorldMap, group = \"NatGeo\") %>%\n",
        "        addProviderTiles(providers$Esri.WorldImagery, group = \"ESRI\") %>%\n",
        "      addCircleMarkers(popup = Bird$Bird_Species,\n",
        "                       label = Bird$Bird_Species,\n",
        "                       color = \"blue\",\n",
        "                       fillColor = \"red\",\n",
        "                       fillOpacity = 0.7,\n",
        "                       labelOptions = labelOptions(noHide = T, direction = \"bottom\",\n",
        "                                                   offset=c(0,-20), textOnly = TRUE)) %>%\n",
        "      addLayersControl(\n",
        "        baseGroups = c(\"OSM\", \"CartoDB\", \"NatGeo\", \"ESRI\"),\n",
        "        options = layersControlOptions(collapsed = FALSE),\n",
        "        overlayGroups = \"Bird_Species\") %>%\n",
        "      addMiniMap(zoomLevelOffset = -4) %>%\n",
        "      addScaleBar()\n",
        "saveWidget(html, file = \"index.html\")"
      ],
      "metadata": {
        "colab": {
          "base_uri": "https://localhost:8080/"
        },
        "id": "nVQDLWsoCpYd",
        "outputId": "6631f1e1-3582-497f-8767-55790cb71d2f"
      },
      "execution_count": 19,
      "outputs": [
        {
          "output_type": "stream",
          "name": "stderr",
          "text": [
            "Assuming \"Longitude\" and \"Latitude\" are longitude and latitude, respectively\n",
            "\n"
          ]
        }
      ]
    },
    {
      "cell_type": "markdown",
      "source": [
        "# New Section"
      ],
      "metadata": {
        "id": "QJGesnSNGWTd"
      }
    }
  ]
}